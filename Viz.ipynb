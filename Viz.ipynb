{
 "cells": [
  {
   "cell_type": "code",
   "execution_count": null,
   "metadata": {
    "pycharm": {
     "is_executing": false
    }
   },
   "outputs": [],
   "source": [
    "!pip install altair vega_datasets"
   ]
  },
  {
   "cell_type": "code",
   "execution_count": null,
   "metadata": {
    "pycharm": {
     "is_executing": false
    }
   },
   "outputs": [],
   "source": [
    "import pandas as pd\n"
   ]
  },
  {
   "cell_type": "markdown",
   "metadata": {},
   "source": [
    "# Destilacion de ultima capa"
   ]
  },
  {
   "cell_type": "code",
   "execution_count": null,
   "metadata": {
    "pycharm": {
     "is_executing": false
    }
   },
   "outputs": [],
   "source": [
    "folder=\"./Cifar10/ResNet101/exp1/students\"\n",
    "data = pd.read_csv(folder+\"/summary.csv\") \n",
    "\n",
    "\n",
    "def plot_KD(phase=\"test\"):\n",
    "    detalle=['test_acc', 'test_teacher/acc', 'test_loss', 'test_eval',\n",
    "           'train_acc', 'train_teacher/acc', 'train_loss', 'train_eval', 'epoch', 'distillation', 'temp']\n",
    "    bar=alt.Chart(data).mark_point().encode(\n",
    "        alt.X('temp', scale=alt.Scale(zero=False,base=10,type='log', )),\n",
    "        alt.Y('%s_acc'%phase, scale=alt.Scale(zero=False, padding=1,)),\n",
    "        shape='distillation',\n",
    "        color='student',\n",
    "        tooltip=detalle\n",
    "    ).interactive()\n",
    "\n",
    "    rule = alt.Chart(data).mark_rule(color='blue').encode(\n",
    "        y='mean(%s_teacher/acc):Q'%phase\n",
    "    )\n",
    "    rule = alt.Chart(data).mark_rule(color='red').encode(\n",
    "        y='mean(%s_teacher/acc):Q'%phase\n",
    "    )\n",
    "\n",
    "\n",
    "\n",
    "    return(bar + rule).properties(width=600,height=400)\n",
    "plot_KD()"
   ]
  },
  {
   "cell_type": "markdown",
   "metadata": {},
   "source": [
    "## Destilacion con features usando KD"
   ]
  },
  {
   "cell_type": "code",
   "execution_count": 6,
   "metadata": {
    "pycharm": {
     "is_executing": false
    }
   },
   "outputs": [
    {
     "name": "stdout",
     "output_type": "stream",
     "text": [
      "MobileNet-KD  MobileNet-KDCE  ResNet18-KD  ResNet18-KDCE  summary.csv\n"
     ]
    }
   ],
   "source": [
    "!ls Cifar10/ResNet101/students"
   ]
  },
  {
   "cell_type": "code",
   "execution_count": 7,
   "metadata": {
    "pycharm": {
     "is_executing": false
    }
   },
   "outputs": [
    {
     "ename": "SyntaxError",
     "evalue": "invalid syntax (<ipython-input-7-e8438b603893>, line 4)",
     "output_type": "error",
     "traceback": [
      "\u001b[0;36m  File \u001b[0;32m\"<ipython-input-7-e8438b603893>\"\u001b[0;36m, line \u001b[0;32m4\u001b[0m\n\u001b[0;31m    mid_folders=#\"MobileNet-KD       MobileNet-KDCE  ResNet18-KD     ResNet18-KDCE\".split()\u001b[0m\n\u001b[0m                                                                                           ^\u001b[0m\n\u001b[0;31mSyntaxError\u001b[0m\u001b[0;31m:\u001b[0m invalid syntax\n"
     ]
    }
   ],
   "source": [
    "import altair as alt\n",
    "\n",
    "folder=\"./Cifar10/ResNet101/exp4/students/\"\n",
    "mid_folders=[\"\"]#\"MobileNet-KD       MobileNet-KDCE  ResNet18-KD     ResNet18-KDCE\".split()\n",
    "ce_test_acc={'MobileNet':87.8,\n",
    "             'ResNet18':90.58}\n",
    "ce_train_acc={'MobileNet':95.73,\n",
    "             'ResNet18':98.15}\n",
    "source = pd.concat([pd.read_csv(folder+mid_folder+\"/summary.csv\") for mid_folder in mid_folders])\n",
    "\n",
    "\n",
    "source=source.fillna(1)\n",
    "\n",
    "source['layer']=[row['layer']-2 if row['student']==\"ResNet18\" else row['layer'] for i,row in source.iterrows()]\n",
    "source['last_layer']=['KD' if row['last_layer']==1 else row['last_layer'] for i,row in source.iterrows()]\n",
    "source['last_layer']=['KD-CE' if row['last_layer']=='KD_CE' else row['last_layer'] for i,row in source.iterrows()]\n",
    "source['last_layer']=['KD-CE' if row['last_layer']=='KDCE,T-8' else row['last_layer'] for i,row in source.iterrows()]\n",
    "source['last_layer']=['KD' if row['last_layer']=='KD,T-8' else row['last_layer'] for i,row in source.iterrows()]\n",
    "source.to_csv('todo.csv')\n",
    "\n",
    "source['student last_layer']=[row['student']+\",\"+row['last_layer'] for i,row in source.iterrows()]\n",
    "source['student_CE_train_Acc']=[ce_test_acc[row['student']] for i,row in source.iterrows()]\n",
    "source['student_CE_test_Acc']=[ce_test_acc[row['student']] for i,row in source.iterrows()]\n"
   ]
  },
  {
   "cell_type": "code",
   "execution_count": null,
   "metadata": {
    "jupyter": {
     "source_hidden": true
    },
    "pycharm": {
     "is_executing": false
    },
    "scrolled": true
   },
   "outputs": [],
   "source": [
    "\n",
    "def plot_acc(phase=\"test\"):\n",
    "\n",
    "    \n",
    "    detalle=[\"student\",\"teacher\",\"distillation\",\"layer\",'last_layer','test_acc','train_acc',\n",
    "             'train_loss','epoch',\"student_CE_%s_Acc\"%phase]#,\"lambda\"]\n",
    "    \n",
    "    \n",
    "    bar=alt.Chart(source).mark_point().encode(\n",
    "        alt.X('layer:O', scale=alt.Scale(zero=False,padding=1)),\n",
    "        alt.Y('%s_acc'%phase, scale=alt.Scale(zero=False, padding=1)),\n",
    "        color=alt.Color('student last_layer'),\n",
    "        shape='distillation',\n",
    "        tooltip=detalle\n",
    "    ).interactive()\n",
    "\n",
    "\n",
    "    rule1 = alt.Chart(source).mark_rule(color='blue').encode(\n",
    "        y='mean(%s_teacher/acc):Q'%phase\n",
    "    )\n",
    "    rule2 = alt.Chart(source).mark_rule(color='red').encode(\n",
    "        y='mean(student_CE_%s_Acc):Q'%phase\n",
    "    )\n",
    "\n",
    "    return (bar + rule1 + rule2).properties(width=600,height=400)\n",
    "    \n",
    "plot_acc()"
   ]
  },
  {
   "cell_type": "code",
   "execution_count": null,
   "metadata": {
    "pycharm": {
     "is_executing": false
    }
   },
   "outputs": [],
   "source": [
    "plot_acc(\"train\")"
   ]
  },
  {
   "cell_type": "code",
   "execution_count": null,
   "metadata": {
    "pycharm": {
     "is_executing": false
    }
   },
   "outputs": [],
   "source": [
    "\n",
    "def plot_acc(phase=\"test\",filter=None):\n",
    "\n",
    "    \n",
    "    detalle=[\"student\",\"teacher\",\"distillation\",\"layer\",'last_layer','test_acc','train_acc',\n",
    "             'train_loss','epoch',\"student_CE_%s_Acc\"%phase]#,\"lambda\"]\n",
    "    \n",
    "    if filter is not None:\n",
    "        S= source[source[filter[0]].isin(filter[1])]\n",
    "    else:\n",
    "        S=source\n",
    "        \n",
    "    bar=alt.Chart(S).mark_point().encode(\n",
    "        alt.X('layer:O', scale=alt.Scale(zero=False,padding=1)),\n",
    "        alt.Y('%s_acc'%phase, scale=alt.Scale(zero=False, padding=1)),\n",
    "        color=alt.Color('student last_layer'),\n",
    "        shape='distillation',\n",
    "        tooltip=detalle\n",
    "    ).interactive()\n",
    "\n",
    "\n",
    "    rule1 = alt.Chart(source).mark_rule(color='blue').encode(\n",
    "        y='mean(%s_teacher/acc):Q'%phase\n",
    "    )\n",
    "    rule2 = alt.Chart(source).mark_rule(color='red').encode(\n",
    "        y='mean(student_CE_%s_Acc):Q'%phase\n",
    "    )\n",
    "\n",
    "    return (bar + rule1 + rule2).properties(width=600,height=400)\n",
    "    \n",
    "plot_acc(filter=('student',['ResNet18']))"
   ]
  },
  {
   "cell_type": "code",
   "execution_count": null,
   "metadata": {
    "pycharm": {
     "is_executing": false
    }
   },
   "outputs": [],
   "source": [
    "def plot_gen(field=\"eval\",phase=\"test\"):\n",
    "\n",
    "    \n",
    "    detalle=[\"student\",\"teacher\",\"distillation\",\"layer\",\"lambda\"]\n",
    "\n",
    "    bar=alt.Chart(source).mark_point().encode(\n",
    "        alt.X('layer', scale=alt.Scale(zero=False,padding=1)),\n",
    "        alt.Y('%s_%s'%(phase,field), scale=alt.Scale(zero=False, padding=1)),\n",
    "         color=alt.Color('lambda:Q', bin=alt.Bin(maxbins=3),  scale=alt.Scale(scheme=\"plasma\" )),\n",
    "        shape='distillation',\n",
    "        tooltip=detalle\n",
    "    ).interactive()\n",
    "\n",
    "\n",
    "    return bar"
   ]
  },
  {
   "cell_type": "code",
   "execution_count": null,
   "metadata": {
    "pycharm": {
     "is_executing": false
    }
   },
   "outputs": [],
   "source": [
    "plot_gen()"
   ]
  },
  {
   "cell_type": "code",
   "execution_count": null,
   "metadata": {
    "pycharm": {
     "is_executing": false
    }
   },
   "outputs": [],
   "source": [
    "source.head()"
   ]
  },
  {
   "cell_type": "code",
   "execution_count": null,
   "metadata": {
    "pycharm": {
     "is_executing": false
    }
   },
   "outputs": [],
   "source": []
  }
 ],
 "metadata": {
  "kernelspec": {
   "display_name": "Python 3",
   "language": "python",
   "name": "python3"
  },
  "language_info": {
   "codemirror_mode": {
    "name": "ipython",
    "version": 3
   },
   "file_extension": ".py",
   "mimetype": "text/x-python",
   "name": "python",
   "nbconvert_exporter": "python",
   "pygments_lexer": "ipython3",
   "version": "3.7.4"
  },
  "pycharm": {
   "stem_cell": {
    "cell_type": "raw",
    "metadata": {
     "collapsed": false
    },
    "source": []
   }
  }
 },
 "nbformat": 4,
 "nbformat_minor": 4
}
