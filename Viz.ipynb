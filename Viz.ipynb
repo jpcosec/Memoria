{
 "cells": [
  {
   "cell_type": "code",
   "execution_count": null,
   "metadata": {
    "collapsed": true,
    "jupyter": {
     "outputs_hidden": true
    }
   },
   "outputs": [],
   "source": [
    "!pip install altair vega_datasets"
   ]
  },
  {
   "cell_type": "markdown",
   "metadata": {},
   "source": [
    "# Destilacion de Logits"
   ]
  },
  {
   "cell_type": "code",
   "execution_count": null,
   "metadata": {
    "pycharm": {
     "is_executing": false
    }
   },
   "outputs": [],
   "source": [
    "import pandas as pd\n",
    "import altair as alt\n",
    "import lib.utils.viz.KD as KD"
   ]
  },
  {
   "cell_type": "code",
   "execution_count": null,
   "metadata": {
    "collapsed": true,
    "jupyter": {
     "outputs_hidden": true
    }
   },
   "outputs": [],
   "source": [
    "KD.omniplot(folder=\"./Cifar10/ResNet101/exp1/students\")"
   ]
  },
  {
   "cell_type": "code",
   "execution_count": null,
   "metadata": {
    "pycharm": {
     "is_executing": false
    }
   },
   "outputs": [],
   "source": [
    "\n",
    "\n",
    "\n",
    "\n",
    "#data=KD.load_data(folder=\"./Cifar10/ResNet101/exp1/students\")\n",
    "KD.load_and_plot(phase='test',field=\"acc\",center=True)\n"
   ]
  },
  {
   "cell_type": "markdown",
   "metadata": {},
   "source": [
    "## Destilacion con features"
   ]
  },
  {
   "cell_type": "code",
   "execution_count": null,
   "metadata": {
    "pycharm": {
     "is_executing": false
    }
   },
   "outputs": [],
   "source": [
    "import altair as alt\n",
    "from lib.utils.viz import Feat\n"
   ]
  },
  {
   "cell_type": "code",
   "execution_count": null,
   "metadata": {
    "pycharm": {
     "is_executing": false
    }
   },
   "outputs": [],
   "source": [
    "Feat.load_and_plot(folder=\"./Cifar10/ResNet101/exp5/students\",phase=\"train\",field=\"acc\",center=True,scale=\"symlog\")"
   ]
  },
  {
   "cell_type": "code",
   "execution_count": null,
   "metadata": {},
   "outputs": [],
   "source": [
    "Feat.load_and_plot(folder=\"./Cifar10/ResNet101/exp5/students\",phase=\"test\",field=\"acc\")#[ARREGLAR LAYERS EN EXP 5]"
   ]
  },
  {
   "cell_type": "code",
   "execution_count": null,
   "metadata": {},
   "outputs": [],
   "source": [
    "plot(data,\"test\",\"acc\",scale=\"symlog\",center=True)"
   ]
  },
  {
   "cell_type": "code",
   "execution_count": null,
   "metadata": {},
   "outputs": [],
   "source": [
    "Feat.omniplot(folder=\"./Cifar10/ResNet101/exp5/students\",scale=\"log\")"
   ]
  },
  {
   "cell_type": "code",
   "execution_count": null,
   "metadata": {},
   "outputs": [],
   "source": [
    "accs = {'Model':['MobileNet','ResNet18','ResNet101'],\n",
    "                      'ce_train':[95.73,98.15,98.52],\n",
    "                      'ce_test':[87.8,90.58,90.68]}\n",
    "\n",
    "d=dict(list(zip(accs['Model'],accs['ce_%s'%\"train\"])))\n",
    "\n"
   ]
  },
  {
   "cell_type": "markdown",
   "metadata": {
    "jupyter": {
     "outputs_hidden": true
    }
   },
   "source": [
    "# Dataset Merging"
   ]
  },
  {
   "cell_type": "code",
   "execution_count": null,
   "metadata": {},
   "outputs": [],
   "source": [
    "import pandas as pd\n",
    "def load_KD_data(folder=\"./Cifar10/ResNet101/exp1/students\"):\n",
    "    data = pd.read_csv(folder+\"/summary.csv\") \n",
    "    data = data[data[\"student\"] != 'EfficientNetB0']\n",
    "    if \"temp\" not in data.columns:\n",
    "        d_arr=[d.split(\",\")[0] for d in data[\"distillation\"]]\n",
    "        t_arr=[float(d.split(\",T-\")[1]) for d in data[\"distillation\"]]\n",
    "        data[\"distillation\"]=d_arr\n",
    "        data[\"temp\"]=t_arr\n",
    "    return data\n",
    "\n",
    "drop_cols=\"test_teacher/acc train_teacher/acc lr\tepochs\ttrain_batch_size teacher\ttest_batch_size resume epoch\".split()\n",
    "\n",
    "\n",
    "d1=load_KD_data(folder=\"./Cifar10/ResNet101/exp1/students\").drop([\"test_teacher/acc\",\"train_teacher/acc\"],axis=1)\n",
    "d2=load_KD_data(folder=\"./Cifar10/ResNet101/exp2/students\").drop(drop_cols,axis=1)\n",
    "d3=load_KD_data(folder=\"./Cifar10/ResNet101/exp3/students\").drop(drop_cols,axis=1)\n",
    "db=d3.merge(d2,on=['student','distillation','temp'],suffixes=('_R01','_R1')).drop(['Unnamed: 0_R01','Unnamed: 0_R1'],axis=1)\n",
    "db=db.merge(d1,on=['student','distillation','temp']).drop(['epoch','Unnamed: 0'],axis=1)"
   ]
  },
  {
   "cell_type": "code",
   "execution_count": null,
   "metadata": {},
   "outputs": [],
   "source": [
    "detalle=['test_acc' + s for s in [\"\",\"_R1\",'_R01']]\n",
    "\n",
    "alt.Chart(db).mark_point().encode(\n",
    "    alt.X(alt.repeat(\"column\"), type='quantitative',scale=alt.Scale(zero=False,base=10,type='linear')),\n",
    "    alt.Y(alt.repeat(\"row\"), type='quantitative',scale=alt.Scale(zero=False,base=10,type='linear')),\n",
    "    color='student',\n",
    "    shape='distillation'\n",
    ").properties(\n",
    "    width=150,\n",
    "    height=150\n",
    ").repeat(\n",
    "    row=detalle,\n",
    "    column=detalle\n",
    ")\n"
   ]
  },
  {
   "cell_type": "code",
   "execution_count": null,
   "metadata": {},
   "outputs": [],
   "source": [
    "db.head()"
   ]
  },
  {
   "cell_type": "code",
   "execution_count": null,
   "metadata": {},
   "outputs": [],
   "source": [
    "detalle"
   ]
  },
  {
   "cell_type": "code",
   "execution_count": null,
   "metadata": {},
   "outputs": [],
   "source": [
    "db[test_acc_R01\t] test_acc_R01"
   ]
  }
 ],
 "metadata": {
  "kernelspec": {
   "display_name": "Python 3",
   "language": "python",
   "name": "python3"
  },
  "language_info": {
   "codemirror_mode": {
    "name": "ipython",
    "version": 3
   },
   "file_extension": ".py",
   "mimetype": "text/x-python",
   "name": "python",
   "nbconvert_exporter": "python",
   "pygments_lexer": "ipython3",
   "version": "3.7.1"
  },
  "pycharm": {
   "stem_cell": {
    "cell_type": "raw",
    "metadata": {
     "collapsed": false
    },
    "source": []
   }
  }
 },
 "nbformat": 4,
 "nbformat_minor": 4
}
